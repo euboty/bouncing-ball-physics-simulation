{
 "cells": [
  {
   "cell_type": "code",
   "execution_count": 106,
   "id": "07333543",
   "metadata": {},
   "outputs": [],
   "source": [
    "import numpy as np\n",
    "import matplotlib.pyplot as plt\n",
    "from turtle import speed"
   ]
  },
  {
   "cell_type": "code",
   "execution_count": 107,
   "id": "9df61da6",
   "metadata": {},
   "outputs": [],
   "source": [
    "class Ball():\n",
    "    \n",
    "    def __init__(self, gravitation=-9.81,speed_y=0, pos_y=1000, cor = 1) -> None:\n",
    "        self.gravitation = gravitation # m/s2\n",
    "        self.speed_y = speed_y # m/s\n",
    "        self.pos_y = pos_y # m\n",
    "        self.cor = cor # coefficient_of_restitution\n",
    "        self.collision_counter = 0\n",
    "\n",
    "    def update_speed_y(self, dt):\n",
    "        self.speed_y =  self.gravitation * dt + self.speed_y\n",
    "\n",
    "    def update_pos_y_without_collision(self, dt):\n",
    "        self.update_speed_y(dt)\n",
    "        self.pos_y = self.gravitation/2*np.power(dt,2) + self.speed_y * dt + self.pos_y # m\n",
    "        return self.pos_y\n",
    "\n",
    "    def update_pos_y(self, dt, boundary):\n",
    "        prev_speed_y = self.speed_y\n",
    "        prev_pos_y = self.pos_y\n",
    "        self.update_speed_y(dt)\n",
    "        self.pos_y = self.gravitation/2*np.power(dt,2) + self.speed_y * dt + self.pos_y # m\n",
    "\n",
    "        if self.is_collision(boundary):\n",
    "            #(self.pos_y - prev_pos_y)*dt + prev_pos_y = boundary.y # linear equasion\n",
    "            dt_collision = ((boundary.y - prev_pos_y)/(self.pos_y - prev_pos_y))*dt\n",
    "            self.speed_y = prev_speed_y # reset\n",
    "            self.pos_y = prev_pos_y # reset\n",
    "            self.update_speed_y(dt_collision)\n",
    "            self.pos_y = boundary.y\n",
    "            #self.pos_y = self.gravitation/2*np.power(dt_collision,2) + self.speed_y * dt_collision + self.pos_y # m\n",
    "\n",
    "            self.speed_y = -self.speed_y*self.cor # bounce reverses speed\n",
    "            self.update_speed_y(dt-dt_collision)\n",
    "            self.pos_y = self.gravitation/2*np.power((dt-dt_collision),2) + self.speed_y * (dt-dt_collision) + self.pos_y # m\n",
    "\n",
    "            if self.speed_y < 0: # ball has not enough energy cross border\n",
    "                self.speed_y = 0\n",
    "                self.pos_y = boundary.y\n",
    "                \n",
    "            self.collision_counter = self.collision_counter + 1\n",
    "\n",
    "            return self.pos_y\n",
    "            \n",
    "        else:\n",
    "            return self.pos_y\n",
    "\n",
    "    def is_collision(self, boundary):\n",
    "        return boundary.y > self.pos_y"
   ]
  },
  {
   "cell_type": "code",
   "execution_count": 108,
   "id": "7b9db6ed",
   "metadata": {},
   "outputs": [],
   "source": [
    "class Boundary():\n",
    "    \n",
    "    def __init__(self, y) -> None:\n",
    "        self.y = y"
   ]
  },
  {
   "cell_type": "code",
   "execution_count": 109,
   "id": "4e1c024a",
   "metadata": {},
   "outputs": [],
   "source": [
    "fps = 100\n",
    "dt = 1/fps\n",
    "collisions = 3"
   ]
  },
  {
   "cell_type": "code",
   "execution_count": 110,
   "id": "46a884ef",
   "metadata": {},
   "outputs": [
    {
     "data": {
      "text/plain": [
       "[<matplotlib.lines.Line2D at 0x1fbed8efb80>]"
      ]
     },
     "execution_count": 110,
     "metadata": {},
     "output_type": "execute_result"
    },
    {
     "data": {
      "image/png": "[encoded data removed]",
      "text/plain": [
       "<Figure size 432x288 with 1 Axes>"
      ]
     },
     "metadata": {
      "needs_background": "light"
     },
     "output_type": "display_data"
    }
   ],
   "source": [
    "pos_y_history = []\n",
    "\n",
    "ball = Ball(gravitation=-9.81, speed_y=0, pos_y=100, cor=1)\n",
    "floor = Boundary(0)\n",
    "collision = False\n",
    "counter = 0\n",
    "\n",
    "while(counter<collisions):\n",
    "    if collision:\n",
    "        ball.speed_y = -ball.speed_y*ball.cor\n",
    "\n",
    "        while(collision):\n",
    "            pos_y_now = ball.update_pos_y_without_collision(dt)\n",
    "            pos_y_history.append(pos_y_now)\n",
    "            collision = ball.is_collision(floor)\n",
    "\n",
    "            if ball.speed_y < 0: # ball has not enough energy cross border\n",
    "                break\n",
    "\n",
    "        counter += 1\n",
    "        collision = False\n",
    "\n",
    "    else:\n",
    "        pos_y_now = ball.update_pos_y_without_collision(dt)\n",
    "        collision = ball.is_collision(floor)\n",
    "        pos_y_history.append(pos_y_now)\n",
    "\n",
    "td_acc_history = np.arange(0, len(pos_y_history))*dt\n",
    "\n",
    "pos_y_history\n",
    "plt.plot(td_acc_history, pos_y_history)"
   ]
  },
  {
   "cell_type": "code",
   "execution_count": 111,
   "id": "1205b528",
   "metadata": {},
   "outputs": [
    {
     "data": {
      "text/plain": [
       "[<matplotlib.lines.Line2D at 0x1fbed93f490>]"
      ]
     },
     "execution_count": 111,
     "metadata": {},
     "output_type": "execute_result"
    },
    {
     "data": {
      "image/png": "[encoded data removed]",
      "text/plain": [
       "<Figure size 432x288 with 1 Axes>"
      ]
     },
     "metadata": {
      "needs_background": "light"
     },
     "output_type": "display_data"
    }
   ],
   "source": [
    "pos_y_history = []\n",
    "\n",
    "ball = Ball(gravitation=-9.81, speed_y=0, pos_y=100, cor=1)\n",
    "floor = Boundary(0)\n",
    "\n",
    "while(ball.collision_counter<collisions):\n",
    "        pos_y_now = ball.update_pos_y(dt, floor)\n",
    "        #print(pos_y_now)\n",
    "        #print(ball.collision_counter)\n",
    "        pos_y_history.append(pos_y_now)\n",
    "\n",
    "td_acc_history = np.arange(0, len(pos_y_history))*dt\n",
    "\n",
    "pos_y_history\n",
    "plt.plot(td_acc_history, pos_y_history)"
   ]
  }
 ],
 "metadata": {
  "kernelspec": {
   "display_name": "Python 3.8.8 ('base')",
   "language": "python",
   "name": "python3"
  },
  "language_info": {
   "codemirror_mode": {
    "name": "ipython",
    "version": 3
   },
   "file_extension": ".py",
   "mimetype": "text/x-python",
   "name": "python",
   "nbconvert_exporter": "python",
   "pygments_lexer": "ipython3",
   "version": "3.8.8"
  },
  "vscode": {
   "interpreter": {
    "hash": "a7ccbcd1dc41696278296f3587358292b2f8b4c660ad2901399578aafcf0a710"
   }
  }
 },
 "nbformat": 4,
 "nbformat_minor": 5
}
