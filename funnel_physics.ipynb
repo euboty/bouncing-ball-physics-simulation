{
 "cells": [
  {
   "cell_type": "code",
   "execution_count": 241,
   "id": "07333543",
   "metadata": {},
   "outputs": [],
   "source": [
    "import numpy as np\n",
    "import matplotlib.pyplot as plt\n",
    "from mpl_toolkits import mplot3d\n",
    "from turtle import speed"
   ]
  },
  {
   "cell_type": "code",
   "execution_count": 242,
   "id": "9e4d48b4",
   "metadata": {},
   "outputs": [],
   "source": [
    "class SimulationObject():\n",
    "\n",
    "    def __init__(self, acc=(0,0,0), vel=(0,0,0), loc=(0,0,0), bounce_cor=1) -> None:\n",
    "        self.acc = np.array(acc)\n",
    "        self.vel = np.array(vel)\n",
    "        self.loc = np.array(loc)\n",
    "        self.bounce_cor = bounce_cor\n",
    "        self.collision_counter = 0\n",
    "\n",
    "    def update_vel(self, dt):\n",
    "        self.vel =  self.acc * dt + self.vel\n",
    "        return self.vel\n",
    "\n",
    "\n",
    "    def update_loc(self, dt):\n",
    "        self.loc = 0.5 * self.acc * np.power(dt,2) + self.vel * dt + self.loc\n",
    "        return self.loc\n",
    "\n",
    "    def update_without_collision(self, dt):\n",
    "        self.update_vel(dt)\n",
    "        self.update_loc(dt)\n",
    "        return self\n",
    "\n",
    "    def update(self, dt, obstacle):\n",
    "        prev_vel = self.vel\n",
    "        prev_loc = self.loc\n",
    "        self.update_vel(dt)\n",
    "        self.update_loc(dt)\n",
    "\n",
    "        intersection = self.solve_intersection(obstacle.point_0, obstacle.point_1, prev_loc, self.loc)\n",
    "\n",
    "        if self.is_collision(intersection[1], intersection[2]):\n",
    "            dt_collision = intersection[2] * dt\n",
    "            self.vel = prev_vel # reset\n",
    "            self.loc = prev_loc # reset\n",
    "            self.update_vel(dt_collision)\n",
    "            self.loc = intersection[0]\n",
    "            \n",
    "            if len(self.vel) == 2: # 2D\n",
    "                help_z = np.array([0, 0, 1])\n",
    "                obstacle_orthogonal = np.cross(obstacle.point_1 - obstacle.point_0, help_z)\n",
    "                obstacle_orthogonal = np.array([obstacle_orthogonal[0], obstacle_orthogonal[1]]) # drop z\n",
    "            else: # 3D\n",
    "                print(\"implement plane here\") # TODO\n",
    "\n",
    "\n",
    "            self.vel = self.vel - 2 * (np.dot(self.vel, obstacle_orthogonal))/(np.dot(obstacle_orthogonal, obstacle_orthogonal)) * obstacle_orthogonal # bounce reflect velocity\n",
    "            self.vel = self.vel * self.bounce_cor # bounce losses\n",
    "            self.update_vel(dt-dt_collision)\n",
    "            self.update_loc(dt-dt_collision)\n",
    "\n",
    "            \"\"\"\n",
    "            if self.vel < 0: # ball has not enough energy cross border\n",
    "                self.vel = 0\n",
    "                self.loc = obstacle.z\n",
    "            \"\"\"\n",
    "\n",
    "            self.collision_counter = self.collision_counter + 1\n",
    "\n",
    "            return self\n",
    "            \n",
    "        else:\n",
    "            return self\n",
    "\n",
    "    def solve_intersection(self, a, b, c, d):\n",
    "        # https://www.youtube.com/watch?v=5FkOO1Wwb8w&ab_channel=EngineerNick\n",
    "        # https://replit.com/@thehappycheese/linetools#LineTools/line_tools.py\n",
    "        # computes the intersection between two line segments; a to b, and c to d\n",
    "\n",
    "        ab = b - a\n",
    "        cd = d - c\n",
    "        \n",
    "        # The intersection of segments is expressed as a parametric equation\n",
    "        # where t1 and t2 are unknown scalars \n",
    "        # note that a real intersection can only happen when 0<=t1<=1 and 0<=t2<=1,\n",
    "        # a + ab·t1 = c + cd·t2\n",
    "        \n",
    "        # This can be rearranged as follows:\n",
    "        # ab·t1 - cd·t2 = c - a\n",
    "        \n",
    "        # by collecting the scalars t1 and -t2 into the column vector T,\n",
    "        # and by collecting the vectors ab and cd into matrix M:\n",
    "        # we get the matrix form:\n",
    "        # [ab_x  cd_x][ t1] = [ac_x]\n",
    "        # [ab_y  cd_y][-t2]   [ac_y]\n",
    "        # or\n",
    "        # M·T=ac\n",
    "        \n",
    "        # the determinant of the matrix M is the inverse of the cross product of ab and cd.\n",
    "        # 1/(ab×cd)\n",
    "        # Therefore if ab×cd=0 the determinant is undefined and the matrix cannot be inverted\n",
    "        # This means the lines are\n",
    "        #   a) parallel and\n",
    "        #   b) possibly collinear\n",
    "        \n",
    "        # pre-multiplying both sides by the inverted 2x2 matrix we get:\n",
    "        # [ t1] = 1/(ab×cd)·[ cd_y  -cd_x][ac_x]\n",
    "        # [-t2]             [-ab_y   ab_x][ac_y]\n",
    "        # or\n",
    "        # T = M⁻¹·ac\n",
    "        \n",
    "        # multiplied out\n",
    "        # [ t1] = 1/(ab_x·cd_y - ab_y·cd_x)·[ cd_y·ac_x - cd_x·ac_y]\n",
    "        # [-t2]                             [-ab_y·ac_x + ab_x·ac_y]\n",
    "        \n",
    "        # since it is neat to write cross products in python code, observe that the above is equivalent to:\n",
    "        # [ t1] = [ ac×cd / ab×cd ]\n",
    "        # [-t2] = [ ab×ac / ab×cd ]\n",
    "        \n",
    "        ab_cross_cd = np.cross(ab, cd)\n",
    "        \n",
    "        if ab_cross_cd == 0:\n",
    "            \n",
    "            # vectors are not linearly independent; ab and cd are parallel\n",
    "            # segments are collinear if ac is parallel to ab\n",
    "            # ac ∥ ab\n",
    "            # or more conveniently if ac is perpendicular to the left normal of ab\n",
    "            # ac ⟂ (ab⟂)\n",
    "            # the left normal of ab = [-ab_y]\n",
    "            #                         [ ab_x]\n",
    "            # dot product of perpendicular vectors is zero:\n",
    "            # if ab.left.dot(ac) == 0:\n",
    "            # \t# segments are collinear\n",
    "            # \t# TODO: we can compute the range over which t1 and t2 produce an overlap, if any, here. Doesnt seem to be needed for now.\n",
    "            # else:\n",
    "            # \t# segments are parallel\n",
    "            # \treturn None\n",
    "            \n",
    "            return (np.inf, np.inf, np.inf)\n",
    "        else:\n",
    "            ac = c - a\n",
    "            t1 = np.cross(ac, cd) / ab_cross_cd\n",
    "            t2 = -np.cross(ab, ac) / ab_cross_cd\n",
    "            return (a + ab * t1, t1, t2) # point of intersection, t1, t2\n",
    "\n",
    "    def is_collision(self, t1, t2):\n",
    "        return 0 < t1 <= 1 and 0 < t2 <= 1"
   ]
  },
  {
   "cell_type": "code",
   "execution_count": 243,
   "id": "7b9db6ed",
   "metadata": {},
   "outputs": [],
   "source": [
    "class Obstacle():\n",
    "    \n",
    "    def __init__(self, point_1, point_2) -> None:\n",
    "        self.point_0 = np.array(point_1)\n",
    "        self.point_1 = np.array(point_2)\n",
    "        # later on planes\n"
   ]
  },
  {
   "cell_type": "code",
   "execution_count": 244,
   "metadata": {},
   "outputs": [],
   "source": [
    "fps = 200\n",
    "dt = 1/fps\n",
    "collisions = 3\n",
    "gravity = -9.81"
   ]
  },
  {
   "cell_type": "code",
   "execution_count": 245,
   "id": "fd9b939f",
   "metadata": {},
   "outputs": [
    {
     "data": {
      "text/plain": [
       "[<matplotlib.lines.Line2D at 0x15cb3403eb0>]"
      ]
     },
     "execution_count": 245,
     "metadata": {},
     "output_type": "execute_result"
    },
    {
     "data": {
      "image/png": "[encoded data removed]",
      "text/plain": [
       "<Figure size 432x288 with 1 Axes>"
      ]
     },
     "metadata": {
      "needs_background": "light"
     },
     "output_type": "display_data"
    }
   ],
   "source": [
    "loc_history = np.empty((2,0))\n",
    "\n",
    "\n",
    "ball = SimulationObject(acc=(0,gravity), vel=(1,0), loc=(0,100), bounce_cor=1)\n",
    "floor = Obstacle((0,0), (100,0))\n",
    "\n",
    "while(ball.collision_counter < collisions):\n",
    "        ball.update(dt, obstacle=floor)\n",
    "        loc_history = np.concatenate((loc_history, np.vstack(ball.loc)), axis=1) # ToDo understand concatenate axis better\n",
    "\n",
    "td_acc_history = np.arange(0, len(loc_history[1]))*dt\n",
    "\n",
    "#plt.plot(td_acc_history, loc_history[1])\n",
    "plt.plot(loc_history[0], loc_history[1])\n"
   ]
  },
  {
   "cell_type": "code",
   "execution_count": 246,
   "id": "84eca358",
   "metadata": {},
   "outputs": [],
   "source": [
    "#ToDo\n",
    "# multiple boundaries\n",
    "# funnel\n",
    "# animate"
   ]
  },
  {
   "cell_type": "code",
   "execution_count": 247,
   "metadata": {},
   "outputs": [
    {
     "data": {
      "text/plain": [
       "\"\\nfig = plt.figure()\\nax = fig.add_subplot(projection='3d')\\n\\nscat = ax.plot3D(loc_history[0], loc_history[1] ,loc_history[2])\\n\\n# Create cubic bounding box to simulate equal aspect ratio, since matplotlib3d does not support aspect=equal\\nmax_range = np.array([loc_history[0].max()-loc_history[0].min(), loc_history[1].max()-loc_history[1].min(), loc_history[2].max()-loc_history[2].min()]).max()\\nXb = 0.5*max_range*np.mgrid[-1:2:2,-1:2:2,-1:2:2][0].flatten() + 0.5*(loc_history[0].max()+loc_history[0].min())\\nYb = 0.5*max_range*np.mgrid[-1:2:2,-1:2:2,-1:2:2][1].flatten() + 0.5*(loc_history[1].max()+loc_history[1].min())\\nZb = 0.5*max_range*np.mgrid[-1:2:2,-1:2:2,-1:2:2][2].flatten() + 0.5*(loc_history[2].max()+loc_history[2].min())\\n\\nfor xb, yb, zb in zip(Xb, Yb, Zb):\\n   ax.plot([xb], [yb], [zb], 'w')\\n\\nplt.grid()\\nplt.show()\\n\""
      ]
     },
     "execution_count": 247,
     "metadata": {},
     "output_type": "execute_result"
    }
   ],
   "source": [
    "\"\"\"\n",
    "fig = plt.figure()\n",
    "ax = fig.add_subplot(projection='3d')\n",
    "\n",
    "scat = ax.plot3D(loc_history[0], loc_history[1] ,loc_history[2])\n",
    "\n",
    "# Create cubic bounding box to simulate equal aspect ratio, since matplotlib3d does not support aspect=equal\n",
    "max_range = np.array([loc_history[0].max()-loc_history[0].min(), loc_history[1].max()-loc_history[1].min(), loc_history[2].max()-loc_history[2].min()]).max()\n",
    "Xb = 0.5*max_range*np.mgrid[-1:2:2,-1:2:2,-1:2:2][0].flatten() + 0.5*(loc_history[0].max()+loc_history[0].min())\n",
    "Yb = 0.5*max_range*np.mgrid[-1:2:2,-1:2:2,-1:2:2][1].flatten() + 0.5*(loc_history[1].max()+loc_history[1].min())\n",
    "Zb = 0.5*max_range*np.mgrid[-1:2:2,-1:2:2,-1:2:2][2].flatten() + 0.5*(loc_history[2].max()+loc_history[2].min())\n",
    "\n",
    "for xb, yb, zb in zip(Xb, Yb, Zb):\n",
    "   ax.plot([xb], [yb], [zb], 'w')\n",
    "\n",
    "plt.grid()\n",
    "plt.show()\n",
    "\"\"\""
   ]
  }
 ],
 "metadata": {
  "kernelspec": {
   "display_name": "Python 3.8.8 ('base')",
   "language": "python",
   "name": "python3"
  },
  "language_info": {
   "codemirror_mode": {
    "name": "ipython",
    "version": 3
   },
   "file_extension": ".py",
   "mimetype": "text/x-python",
   "name": "python",
   "nbconvert_exporter": "python",
   "pygments_lexer": "ipython3",
   "version": "3.8.8"
  },
  "vscode": {
   "interpreter": {
    "hash": "a7ccbcd1dc41696278296f3587358292b2f8b4c660ad2901399578aafcf0a710"
   }
  }
 },
 "nbformat": 4,
 "nbformat_minor": 5
}
